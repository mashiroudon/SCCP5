{
  "nbformat": 4,
  "nbformat_minor": 0,
  "metadata": {
    "colab": {
      "provenance": [],
      "authorship_tag": "ABX9TyNNQWjGJgn4n5G4TiYIZppr"
    },
    "kernelspec": {
      "name": "python3",
      "display_name": "Python 3"
    },
    "language_info": {
      "name": "python"
    }
  },
  "cells": [
    {
      "cell_type": "code",
      "execution_count": 1,
      "metadata": {
        "id": "rcY73qZxUp7-"
      },
      "outputs": [],
      "source": [
        "import numpy as np\n",
        "import pandas as pd\n",
        "import matplotlib.pyplot as plt\n",
        "\n",
        "import cv2\n",
        "import os\n",
        "import io\n",
        "import glob"
      ]
    },
    {
      "cell_type": "code",
      "source": [
        "!wget \"https://drive.google.com/uc?export=download&id=1vzvJj-fXsnuBHVe0mZXu-0gNv-bTgfiZ\" -O HandDB_Lower_Alphabet.npz"
      ],
      "metadata": {
        "colab": {
          "base_uri": "https://localhost:8080/"
        },
        "id": "YCwQubdBVaPp",
        "outputId": "d183de67-6e20-456b-b696-c92e4b1b892e"
      },
      "execution_count": 2,
      "outputs": [
        {
          "output_type": "stream",
          "name": "stdout",
          "text": [
            "--2022-09-13 14:51:40--  https://drive.google.com/uc?export=download&id=1vzvJj-fXsnuBHVe0mZXu-0gNv-bTgfiZ\n",
            "Resolving drive.google.com (drive.google.com)... 74.125.195.138, 74.125.195.113, 74.125.195.139, ...\n",
            "Connecting to drive.google.com (drive.google.com)|74.125.195.138|:443... connected.\n",
            "HTTP request sent, awaiting response... 303 See Other\n",
            "Location: https://doc-14-3c-docs.googleusercontent.com/docs/securesc/ha0ro937gcuc7l7deffksulhg5h7mbp1/3r7v30hlaealtc73grq0ijpcsd9me72a/1663080675000/12360162376384578551/*/1vzvJj-fXsnuBHVe0mZXu-0gNv-bTgfiZ?e=download&uuid=af0debad-0770-4364-9e2a-fa437d149e2a [following]\n",
            "Warning: wildcards not supported in HTTP.\n",
            "--2022-09-13 14:52:06--  https://doc-14-3c-docs.googleusercontent.com/docs/securesc/ha0ro937gcuc7l7deffksulhg5h7mbp1/3r7v30hlaealtc73grq0ijpcsd9me72a/1663080675000/12360162376384578551/*/1vzvJj-fXsnuBHVe0mZXu-0gNv-bTgfiZ?e=download&uuid=af0debad-0770-4364-9e2a-fa437d149e2a\n",
            "Resolving doc-14-3c-docs.googleusercontent.com (doc-14-3c-docs.googleusercontent.com)... 142.250.99.132, 2607:f8b0:400e:c0c::84\n",
            "Connecting to doc-14-3c-docs.googleusercontent.com (doc-14-3c-docs.googleusercontent.com)|142.250.99.132|:443... connected.\n",
            "HTTP request sent, awaiting response... 200 OK\n",
            "Length: 1030317 (1006K) [application/x-zip]\n",
            "Saving to: ‘HandDB_Lower_Alphabet.npz’\n",
            "\n",
            "HandDB_Lower_Alphab 100%[===================>]   1006K  --.-KB/s    in 0.009s  \n",
            "\n",
            "2022-09-13 14:52:06 (110 MB/s) - ‘HandDB_Lower_Alphabet.npz’ saved [1030317/1030317]\n",
            "\n"
          ]
        }
      ]
    },
    {
      "cell_type": "code",
      "source": [
        "data=np.load('HandDB_Lower_Alphabet.npz', allow_pickle=True)\n",
        "X=data['x']\n",
        "y=data['y']\n",
        "n2c=data['n2c'].item()"
      ],
      "metadata": {
        "id": "5Enj2B91ViOi"
      },
      "execution_count": 3,
      "outputs": []
    }
  ]
}